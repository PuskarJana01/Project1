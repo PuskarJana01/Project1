{
 "cells": [
  {
   "cell_type": "markdown",
   "id": "9a444fbc-8a69-4315-81a7-23c8e060a45d",
   "metadata": {},
   "source": [
    "Title"
   ]
  },
  {
   "cell_type": "markdown",
   "id": "d912800a-5a42-4fe4-81cc-97fbc46b4360",
   "metadata": {},
   "source": [
    "Here is Introduction part."
   ]
  },
  {
   "cell_type": "markdown",
   "id": "3a3794a1-bd1e-4359-87b3-84a9d1fc45c6",
   "metadata": {
    "jp-MarkdownHeadingCollapsed": true
   },
   "source": [
    "### Data Science Languages\n",
    "\n",
    "1. **Python**\n",
    "   - Widely used for data analysis, machine learning, and scientific computing.\n",
    "   - Popular libraries: Pandas, NumPy, Scikit-learn, TensorFlow, PyTorch.\n",
    "\n",
    "2. **R**\n",
    "   - Statistical programming language with strong data analysis and visualization capabilities.\n",
    "   - Well-suited for statistical modeling and exploratory data analysis.\n",
    "\n",
    "3. **SQL**\n",
    "   - Essential for working with relational databases, querying, and managing structured data.\n",
    "\n",
    "4. **Julia**\n",
    "   - Known for its high-performance computing capabilities and ease of use in data science.\n",
    "\n",
    "5. **Scala**\n",
    "   - Often used in big data processing frameworks like Apache Spark.\n",
    "\n",
    "6. **MATLAB**\n",
    "   - Commonly used in academia and industry for numerical computing and data analysis.\n",
    "\n",
    "7. **Java**\n",
    "   - Utilized in big data ecosystems and for building scalable applications."
   ]
  },
  {
   "cell_type": "markdown",
   "id": "c4340623-2a5e-458a-99f0-62aee331a40d",
   "metadata": {
    "jp-MarkdownHeadingCollapsed": true
   },
   "source": [
    "### Data Science Libraries in Python\r\n",
    "\r\n",
    "1. **Pandas**\r\n",
    "   - Data manipulation and analysis library, providing data structures like DataFrame.\r\n",
    "\r\n",
    "2. **NumPy**\r\n",
    "   - Fundamental package for scientific computing with support for large, multi-dimensional arrays and matrices.\r\n",
    "\r\n",
    "3. **Matplotlib**\r\n",
    "   - 2D plotting library for creating static, interactive, and animated visualizations.\r\n",
    "\r\n",
    "4. **Seaborn**\r\n",
    "   - Data visualization library based on Matplotlib, providing a high-level interface for statistical graphics.\r\n",
    "\r\n",
    "5. **Scikit-learn**\r\n",
    "   - Machine learning library with tools for classification, regression, clustering, and more.\r\n",
    "\r\n",
    "6. **TensorFlow**\r\n",
    "   - Open-source machine learning framework developed by Google for building and training deep learning models.\r\n",
    "\r\n",
    "7. **PyTorch**\r\n",
    "   - Deep learning library known for its flexibility and dynamic computational graph.\r\n",
    "\r\n",
    "8. **Keras**\r\n",
    "   - High-level neural networks API, often used with TensorFlow or Theano as a backend.\r\n",
    "\r\n",
    "9. **NLTK (Natural Language Toolkit)**\r\n",
    "   - Library for working with human language data, including text processing and analysis.\r\n",
    "\r\n",
    "10. **Statsmodels**\r\n",
    "    - Library for estimating athem in your Python environment.\r\n"
   ]
  },
  {
   "cell_type": "markdown",
   "id": "1907919e-07d8-4bef-9795-6d1776c40c09",
   "metadata": {
    "jp-MarkdownHeadingCollapsed": true
   },
   "source": [
    "### Data Science Tools\n",
    "\n",
    "| Tool              | Description                                             |\n",
    "|-------------------|---------------------------------------------------------|\n",
    "| **Jupyter Notebooks** | Interactive computing environment for creating and sharing documents containing live code, equations, visualizations, and narrative text. |\n",
    "| **RStudio**       | Integrated development environment (IDE) for R, providing tools for data analysis, visualization, and package management. |\n",
    "| **Spyder**        | Open-source IDE for Python with advanced editing, interactive testing, debugging, and introspection features. |\n",
    "| **Tableau**       | Business intelligence tool for creating interactive and shareable dashboards with a focus on data visualization. |\n",
    "| **Power BI**      | Business analytics tool by Microsoft for creating interactive reports and dashboards with a wide range of data sources. |\n",
    "| **Apache Spark**  | Open-source distributed computing system, commonly used for big data processing and machine learning. |\n",
    "| **Databricks**    | Unified analytics platform built on Apache Spark, providing collaborative environment for big data and machine learning. |\n",
    "| **Git**           | Version control system used for tracking changes in source code during software development. |\n",
    "| **Docker**        | Platform for developing, shipping, and running applications in containers, ensuring consistency across different environments. |\n",
    "| **VS Code**       | Lightweight, open-source code editor with built-in support for various programming languages and extensions. |\n",
    "| **SQLAlchemy**    | SQL toolkit and Object-Relational Mapping (ORM) for Python, providing a set of high-level API for relational databases. |\n"
   ]
  },
  {
   "cell_type": "markdown",
   "id": "d1b78b56-3feb-442b-9b66-6ddf98f78969",
   "metadata": {},
   "source": [
    "### Arithmetic Expression Examples\n",
    "\n",
    "Arithmetic expressions are fundamental in mathematics and programming, involving basic operations like addition, subtraction, multiplication, and division. Here are some examples of arithmetic expressions:\n",
    "\n",
    "1. **Addition:**\n",
    "   - \\(2 + 3\\)\n",
    "   - \\(10 + (-5)\\)\n",
    "   - \\(x + y\\)\n",
    "\n",
    "2. **Subtraction:**\n",
    "   - \\(7 - 4\\)\n",
    "   - \\(15 - (-8)\\)\n",
    "   - \\(a - b\\)\n",
    "\n",
    "3. **Multiplication:**\n",
    "   - \\(4 \\times 6\\)\n",
    "   - \\((-2) \\times (-3)\\)\n",
    "   - \\(m \\times n\\)\n",
    "\n",
    "4. **Division:**\n",
    "   - \\(9 \\div 3\\)\n",
    "   - \\(12 \\div (-4)\\)\n",
    "   - \\(p \\div q\\)\n",
    "\n",
    "5. **Mixed Expressions:**\n",
    "   - \\(2 + 3 \\times 4\\)\n",
    "   - \\((8 - 2) \\div (5 + 1)\\)\n",
    "   - \\(a \\times (b + c) - d\\)"
   ]
  },
  {
   "cell_type": "code",
   "execution_count": 4,
   "id": "813a0cca-ba42-41cf-b280-b2f776de50c9",
   "metadata": {},
   "outputs": [
    {
     "name": "stdout",
     "output_type": "stream",
     "text": [
      "The result of multiplying 5 and 3 is: 15\n",
      "The result of adding 5 and 3 is: 8\n"
     ]
    }
   ],
   "source": [
    "# Define two numbers\n",
    "number1 = 5\n",
    "number2 = 3\n",
    "\n",
    "# Multiply the numbers\n",
    "result_multiply = number1 * number2\n",
    "\n",
    "# Add the numbers\n",
    "result_add = number1 + number2\n",
    "\n",
    "# Display the results\n",
    "print(f\"The result of multiplying {number1} and {number2} is: {result_multiply}\")\n",
    "print(f\"The result of adding {number1} and {number2} is: {result_add}\")\n"
   ]
  },
  {
   "cell_type": "code",
   "execution_count": 6,
   "id": "5ba73a10-9c44-4be2-977a-fe28f360eabd",
   "metadata": {},
   "outputs": [
    {
     "name": "stdout",
     "output_type": "stream",
     "text": [
      "120 minutes is equal to 2.00 hours.\n"
     ]
    }
   ],
   "source": [
    "# Function to convert minutes to hours\n",
    "def convert_minutes_to_hours(minutes):\n",
    "    hours = minutes / 60\n",
    "    return hours\n",
    "\n",
    "# Example usage\n",
    "minutes_value = 120\n",
    "hours_result = convert_minutes_to_hours(minutes_value)\n",
    "\n",
    "# Display the result\n",
    "print(f\"{minutes_value} minutes is equal to {hours_result:.2f} hours.\")"
   ]
  },
  {
   "cell_type": "markdown",
   "id": "652838ba-a9c6-44b9-9629-9dfe6fe9741f",
   "metadata": {},
   "source": [
    "### Objectives\n",
    "\n",
    "1. **Understand Basic Arithmetic Operations:**\n",
    "   - Learn how to perform fundamental arithmetic operations such as addition, subtraction, multiplication, and division.\n",
    "\n",
    "2. **Apply Order of Operations:**\n",
    "   - Practice applying the order of operations (PEMDAS/BODMAS) to correctly evaluate complex arithmetic expressions.\n",
    "\n",
    "3. **Convert Units of Time:**\n",
    "   - Explore converting units of time, such as minutes to hours, to develop a practical understanding of time-related calculations.\n",
    "\n",
    "4. **Utilize Python for Basic Calculations:**\n",
    "   - Gain familiarity with using Python for basic mathematical operations, including addition, subtraction, multiplication, and division.\n",
    "\n",
    "5. **Develop Coding Skills:**\n",
    "   - Enhance coding skills by creating simple Python scripts to perform calculations and solve basic mathematical problems.\n",
    "\n",
    "6. **Practice Communication of Results:**\n",
    "   - Practice communicating mathematical results clearly and concisely, both in written form and through programming output.\n",
    "\n",
    "7. **Encourage Exploration and Modification:**\n",
    "   - Encourage exploration and modification of provided code cells to reinforce learning and adapt examples to different scenarios.\n",
    "\n",
    "8. **Promote Interactive Learning:**\n",
    "   - Use interactive examples to engage with the material and reinforce understanding through practical application."
   ]
  },
  {
   "cell_type": "markdown",
   "id": "418fc25f-4ca9-4fbe-9801-7ba460c1a8ae",
   "metadata": {},
   "source": [
    "### Author\n",
    "\n",
    "Feryal Soltani\n"
   ]
  }
 ],
 "metadata": {
  "kernelspec": {
   "display_name": "Python 3 (ipykernel)",
   "language": "python",
   "name": "python3"
  },
  "language_info": {
   "codemirror_mode": {
    "name": "ipython",
    "version": 3
   },
   "file_extension": ".py",
   "mimetype": "text/x-python",
   "name": "python",
   "nbconvert_exporter": "python",
   "pygments_lexer": "ipython3",
   "version": "3.12.0"
  }
 },
 "nbformat": 4,
 "nbformat_minor": 5
}
